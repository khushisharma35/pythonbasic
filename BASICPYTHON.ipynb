{
  "nbformat": 4,
  "nbformat_minor": 0,
  "metadata": {
    "colab": {
      "provenance": [],
      "collapsed_sections": []
    },
    "kernelspec": {
      "name": "python3",
      "display_name": "Python 3"
    },
    "language_info": {
      "name": "python"
    }
  },
  "cells": [
    {
      "cell_type": "code",
      "source": [
        "#  variables\n",
        "myvar = 5\n",
        "myname = \"khushi\"\n",
        "print(type(myvar))\n",
        "print(type(myname))\n",
        "\n",
        "print(\"my name is {}\".format(myname))"
      ],
      "metadata": {
        "colab": {
          "base_uri": "https://localhost:8080/"
        },
        "id": "uouKivW0jvJO",
        "outputId": "668a60fd-b8b6-4c9e-fea6-95a161f864ab"
      },
      "execution_count": 21,
      "outputs": [
        {
          "output_type": "stream",
          "name": "stdout",
          "text": [
            "<class 'int'>\n",
            "<class 'str'>\n",
            "my name is khushi\n"
          ]
        }
      ]
    },
    {
      "cell_type": "markdown",
      "source": [
        "Type Casting\n"
      ],
      "metadata": {
        "id": "oz1KiXqmyEjP"
      }
    },
    {
      "cell_type": "code",
      "source": [
        "\n",
        "a= 2\n",
        "b=5.7\n",
        "\n",
        "print(type(a))\n",
        "print(type(b))\n",
        "\n",
        "\n",
        "#type casting \n",
        "A = float(a)\n",
        "B = int(b)\n",
        "\n",
        "print(A)\n",
        "print(B)\n",
        "\n",
        "\n"
      ],
      "metadata": {
        "colab": {
          "base_uri": "https://localhost:8080/"
        },
        "id": "QkG2opvxmQut",
        "outputId": "c0be1961-2b54-4df1-99d1-587ab35aaaf6"
      },
      "execution_count": 8,
      "outputs": [
        {
          "output_type": "stream",
          "name": "stdout",
          "text": [
            "<class 'int'>\n",
            "<class 'float'>\n",
            "2.0\n",
            "5\n"
          ]
        }
      ]
    },
    {
      "cell_type": "markdown",
      "source": [
        "String"
      ],
      "metadata": {
        "id": "jHZ7ao0jx__C"
      }
    },
    {
      "cell_type": "code",
      "source": [
        "\n",
        "string_name = \"hello\"\n",
        "\n",
        "# Accessing particluar index  in string\n",
        "print(string_name[3])\n",
        "\n",
        "# silicing to the end and printing that index element\n",
        "\n",
        "print(string_name[2:])\n",
        "#Accessing the element fron starting to index. 3\n",
        "print(string_name[:3])\n",
        " # checking whether the string start with the particular element or not\n",
        "string_name.startswith(\"h\")\n",
        "\n",
        "#spliting the strings into substring\n",
        "a=\"Hello,World!\"\n",
        "b = a.split(\",\")\n",
        "print(b)\n",
        "\n",
        "\n"
      ],
      "metadata": {
        "colab": {
          "base_uri": "https://localhost:8080/"
        },
        "id": "U9PLHOITmRD2",
        "outputId": "33526524-8327-4b84-fd80-3277438440e4"
      },
      "execution_count": 22,
      "outputs": [
        {
          "output_type": "stream",
          "name": "stdout",
          "text": [
            "l\n",
            "llo\n",
            "hel\n",
            "['Hello', 'World!']\n"
          ]
        }
      ]
    },
    {
      "cell_type": "markdown",
      "source": [
        "List"
      ],
      "metadata": {
        "id": "vUPZBkkxyUvw"
      }
    },
    {
      "cell_type": "code",
      "source": [
        "\n",
        "\n",
        "#defining a list\n",
        "my_list = [\n",
        "    1, 2, 3,\n",
        "    4, 5, 6,\n",
        "    ]\n",
        "print(my_list)\n",
        "print(len(my_list))    \n",
        "\n",
        "\n",
        "# taking input in list by user\n",
        "mylist = []\n",
        "  \n",
        "\n",
        "n = int(input(\"Enter number of elements \"))\n",
        "  \n",
        "\n",
        "for i in range(0, n):\n",
        "    ele = int(input())\n",
        "  \n",
        "    mylist.append(ele) \n",
        "      \n",
        "print(mylist)\n",
        "\n",
        "my_list.extend(mylist)\n",
        "print(my_list)\n",
        "\n"
      ],
      "metadata": {
        "colab": {
          "base_uri": "https://localhost:8080/"
        },
        "id": "EqQuCXkYmRLa",
        "outputId": "bc9fdbb6-998d-439a-faaf-a597223dc296"
      },
      "execution_count": 71,
      "outputs": [
        {
          "output_type": "stream",
          "name": "stdout",
          "text": [
            "[1, 2, 3, 4, 5, 6]\n",
            "6\n",
            "Enter number of elements 4\n",
            "5\n",
            "6\n",
            "7\n",
            "8\n",
            "[5, 6, 7, 8]\n",
            "[1, 2, 3, 4, 5, 6, 5, 6, 7, 8]\n"
          ]
        }
      ]
    },
    {
      "cell_type": "markdown",
      "source": [
        "Map()"
      ],
      "metadata": {
        "id": "UkOIOBKbH0i9"
      }
    },
    {
      "cell_type": "code",
      "source": [
        "\n",
        "n =int(input())\n",
        "a = list(map(int,input(\"Enter the numbers \").strip().split()))[:n]\n",
        "print(a)"
      ],
      "metadata": {
        "colab": {
          "base_uri": "https://localhost:8080/"
        },
        "id": "N_d6AnklE44Q",
        "outputId": "14750b03-a66c-4082-a34e-4f2f5a3b8c85"
      },
      "execution_count": 63,
      "outputs": [
        {
          "output_type": "stream",
          "name": "stdout",
          "text": [
            "4\n",
            "Enter the numbers 5 7 22 5\n",
            "[5, 7, 22, 5]\n"
          ]
        }
      ]
    },
    {
      "cell_type": "markdown",
      "source": [
        "Tuples\n"
      ],
      "metadata": {
        "id": "g-zGprALyRJf"
      }
    },
    {
      "cell_type": "code",
      "source": [
        "# tuple\n",
        "thistuple = (\"red\", \"green\", \"blue\")\n",
        "print(thistuple)\n"
      ],
      "metadata": {
        "colab": {
          "base_uri": "https://localhost:8080/"
        },
        "id": "__u5OeFVmROS",
        "outputId": "49e7ad8e-234d-45cc-f864-069183653db3"
      },
      "execution_count": 29,
      "outputs": [
        {
          "output_type": "stream",
          "name": "stdout",
          "text": [
            "('red', 'green', 'blue')\n"
          ]
        }
      ]
    },
    {
      "cell_type": "markdown",
      "source": [
        "Dictinary"
      ],
      "metadata": {
        "id": "w8NdOuYGyfvf"
      }
    },
    {
      "cell_type": "code",
      "source": [
        "thisdict = {\n",
        "  \"Name\": \"Khushi\",\n",
        "  \"Age\": 20,\n",
        "}\n",
        "print(type(thisdict))\n",
        "print(thisdict.get(\"Name\"))"
      ],
      "metadata": {
        "colab": {
          "base_uri": "https://localhost:8080/"
        },
        "id": "jIjtH5tcmRRO",
        "outputId": "f0e8b2a0-ce81-4068-aeee-bde0b6f44314"
      },
      "execution_count": 36,
      "outputs": [
        {
          "output_type": "stream",
          "name": "stdout",
          "text": [
            "<class 'dict'>\n",
            "Khushi\n"
          ]
        }
      ]
    },
    {
      "cell_type": "markdown",
      "source": [
        "Lambda function"
      ],
      "metadata": {
        "id": "cPxGnEMDDcbh"
      }
    },
    {
      "cell_type": "code",
      "source": [
        "x = lambda a : a+10\n",
        "print(x(5))"
      ],
      "metadata": {
        "colab": {
          "base_uri": "https://localhost:8080/"
        },
        "id": "nv4aTGBAmRUA",
        "outputId": "77a4e3d7-6991-4f54-fc33-ba247c9f4c90"
      },
      "execution_count": 61,
      "outputs": [
        {
          "output_type": "stream",
          "name": "stdout",
          "text": [
            "15\n"
          ]
        }
      ]
    },
    {
      "cell_type": "markdown",
      "source": [
        "Functions"
      ],
      "metadata": {
        "id": "m5MOlKWez5fd"
      }
    },
    {
      "cell_type": "code",
      "source": [
        "x = \"Khushi\"  #defining global variable\n",
        "\n",
        "def myfunc():\n",
        "  print(\"My name \" + x)\n",
        "\n",
        "myfunc()"
      ],
      "metadata": {
        "colab": {
          "base_uri": "https://localhost:8080/"
        },
        "id": "6E6-frheNX0M",
        "outputId": "b6b36d90-bbad-47eb-b879-05114a2e6415"
      },
      "execution_count": 40,
      "outputs": [
        {
          "output_type": "stream",
          "name": "stdout",
          "text": [
            "My name Khushi\n"
          ]
        }
      ]
    },
    {
      "cell_type": "markdown",
      "source": [
        "Classes"
      ],
      "metadata": {
        "id": "Y1iM5TUm1n93"
      }
    },
    {
      "cell_type": "code",
      "source": [
        "class Computer:\n",
        "  def __init__(self): #defining constructor\n",
        "    self.name = \"khushi\"\n",
        "    self.age = 20\n",
        "  \n",
        "c1=Computer()\n",
        "print(c1.name)"
      ],
      "metadata": {
        "colab": {
          "base_uri": "https://localhost:8080/"
        },
        "id": "ROqjWsU4NX2-",
        "outputId": "b8fcc9c5-f77b-46e5-f48c-b95abd0e3ed2"
      },
      "execution_count": 43,
      "outputs": [
        {
          "output_type": "stream",
          "name": "stdout",
          "text": [
            "khushi\n"
          ]
        }
      ]
    },
    {
      "cell_type": "markdown",
      "source": [],
      "metadata": {
        "id": "Ilyc1V3J1mzw"
      }
    },
    {
      "cell_type": "code",
      "source": [
        "class Student:\n",
        "    def __init__(selfstudent, name, age):\n",
        "        selfstudent.name = name\n",
        "        selfstudent.age = age\n",
        " \n",
        "    def details(selfstudent):\n",
        "        print(\"Employee Name:\",  selfstudent.name)\n",
        "        print(\"Employee Age:\", selfstudent.age)\n",
        " \n",
        " \n",
        "student = Student(\"Khushi\", 20)\n",
        "student.details()"
      ],
      "metadata": {
        "colab": {
          "base_uri": "https://localhost:8080/"
        },
        "id": "cVWGELb9NX5-",
        "outputId": "7b92ac79-b071-4fdc-87c9-a1da68549eff"
      },
      "execution_count": 52,
      "outputs": [
        {
          "output_type": "stream",
          "name": "stdout",
          "text": [
            "Employee Name: Khushi\n",
            "Employee Age: 20\n"
          ]
        }
      ]
    },
    {
      "cell_type": "markdown",
      "source": [
        "Decorators\n"
      ],
      "metadata": {
        "id": "zaFezEhf-Q_F"
      }
    },
    {
      "cell_type": "code",
      "source": [
        "def div(a,b):\n",
        "    print(a/b)\n",
        "\n",
        "def smart_div(func):\n",
        "\n",
        "    def inner(a,b):\n",
        "\n",
        "        if a<b:\n",
        "            a,b = b,a\n",
        "        return func(a,b)\n",
        "\n",
        "    return inner\n",
        "\n",
        "div = smart_div(div)\n",
        "\n",
        "div(2,4)"
      ],
      "metadata": {
        "colab": {
          "base_uri": "https://localhost:8080/"
        },
        "id": "ezekyBKM-JO4",
        "outputId": "d3981edc-56f0-4784-effd-87413c8332d6"
      },
      "execution_count": 48,
      "outputs": [
        {
          "output_type": "stream",
          "name": "stdout",
          "text": [
            "2.0\n"
          ]
        }
      ]
    },
    {
      "cell_type": "markdown",
      "source": [
        "expection handling"
      ],
      "metadata": {
        "id": "cTjK_sNi-tO8"
      }
    },
    {
      "cell_type": "code",
      "source": [
        "try:\n",
        "  num1 = num2\n",
        "except NameError as ne:\n",
        "  print(ne)\n"
      ],
      "metadata": {
        "colab": {
          "base_uri": "https://localhost:8080/"
        },
        "id": "qpsAnZcQ-r7S",
        "outputId": "8373fbf5-648b-4e35-d028-3296fc4e480b"
      },
      "execution_count": 51,
      "outputs": [
        {
          "output_type": "stream",
          "name": "stdout",
          "text": [
            "name 'num2' is not defined\n"
          ]
        }
      ]
    },
    {
      "cell_type": "markdown",
      "source": [
        "Inheritence"
      ],
      "metadata": {
        "id": "CD1P-BXR_1qC"
      }
    },
    {
      "cell_type": "code",
      "source": [
        "class Parent:\n",
        "     def func1(self):\n",
        "          print(\"this is function one\")\n",
        "class Child(Parent):\n",
        "     def func2(self):\n",
        "          print(\" this is function two \")\n",
        "obj = Child()\n",
        "obj.func1()\n",
        "obj.func2()"
      ],
      "metadata": {
        "colab": {
          "base_uri": "https://localhost:8080/"
        },
        "id": "2_Cfdmqo_0n0",
        "outputId": "087f7cf6-92af-43dd-e67b-68de4034d309"
      },
      "execution_count": 54,
      "outputs": [
        {
          "output_type": "stream",
          "name": "stdout",
          "text": [
            "this is function one\n",
            " this is function two \n"
          ]
        }
      ]
    },
    {
      "cell_type": "code",
      "source": [],
      "metadata": {
        "id": "8-Mk8eEB-sDH"
      },
      "execution_count": null,
      "outputs": []
    }
  ]
}