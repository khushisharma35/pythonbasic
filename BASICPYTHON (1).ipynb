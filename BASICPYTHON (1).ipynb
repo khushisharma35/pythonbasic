{
  "nbformat": 4,
  "nbformat_minor": 0,
  "metadata": {
    "colab": {
      "provenance": [],
      "collapsed_sections": []
    },
    "kernelspec": {
      "name": "python3",
      "display_name": "Python 3"
    },
    "language_info": {
      "name": "python"
    }
  },
  "cells": [
    {
      "cell_type": "code",
      "source": [
        "#  variables\n",
        "myvar = 5\n",
        "myname = \"khushi\"\n",
        "print(type(myvar))\n",
        "print(type(myname))\n",
        "\n",
        "print(\"my name is {}\".format(myname))"
      ],
      "metadata": {
        "colab": {
          "base_uri": "https://localhost:8080/"
        },
        "id": "uouKivW0jvJO",
        "outputId": "ccaa3803-dc2f-4e78-bed4-8a70bb2e2e67"
      },
      "execution_count": 1,
      "outputs": [
        {
          "output_type": "stream",
          "name": "stdout",
          "text": [
            "<class 'int'>\n",
            "<class 'str'>\n",
            "my name is khushi\n"
          ]
        }
      ]
    },
    {
      "cell_type": "markdown",
      "source": [
        "Type Casting\n"
      ],
      "metadata": {
        "id": "oz1KiXqmyEjP"
      }
    },
    {
      "cell_type": "code",
      "source": [
        "\n",
        "num1= 2\n",
        "num2=5.7\n",
        "\n",
        "print(type(num1))\n",
        "print(type(num2))\n",
        "\n",
        "\n",
        "#type casting \n",
        "number1 = float(num1)\n",
        "number2 = int(num2)\n",
        "\n",
        "print(number1)\n",
        "print(number2)\n",
        "\n",
        "\n"
      ],
      "metadata": {
        "colab": {
          "base_uri": "https://localhost:8080/"
        },
        "id": "QkG2opvxmQut",
        "outputId": "5d6a23ef-f556-4af1-d4fd-56022f01c06a"
      },
      "execution_count": 2,
      "outputs": [
        {
          "output_type": "stream",
          "name": "stdout",
          "text": [
            "<class 'int'>\n",
            "<class 'float'>\n",
            "2.0\n",
            "5\n"
          ]
        }
      ]
    },
    {
      "cell_type": "markdown",
      "source": [
        "String"
      ],
      "metadata": {
        "id": "jHZ7ao0jx__C"
      }
    },
    {
      "cell_type": "code",
      "source": [
        "\n",
        "string_name = \"hello\"\n",
        "\n",
        "# Accessing particluar index  in string\n",
        "print(string_name[3])\n",
        "\n",
        "# silicing to the end and printing that index element\n",
        "\n",
        "print(string_name[2:])\n",
        "#Accessing the element fron starting to index. 3\n",
        "print(string_name[:3])\n",
        " # checking whether the string start with the particular element or not\n",
        "string_name.startswith(\"h\")\n",
        "\n",
        "#spliting the strings into substring\n",
        "string=\"Hello,World!\"\n",
        "newstring= string.split(\",\")\n",
        "print(newstring)\n",
        "\n",
        "\n"
      ],
      "metadata": {
        "colab": {
          "base_uri": "https://localhost:8080/"
        },
        "id": "U9PLHOITmRD2",
        "outputId": "117240e2-f403-4685-f713-3fc58aa2e10d"
      },
      "execution_count": 3,
      "outputs": [
        {
          "output_type": "stream",
          "name": "stdout",
          "text": [
            "l\n",
            "llo\n",
            "hel\n",
            "['Hello', 'World!']\n"
          ]
        }
      ]
    },
    {
      "cell_type": "markdown",
      "source": [
        "List"
      ],
      "metadata": {
        "id": "vUPZBkkxyUvw"
      }
    },
    {
      "cell_type": "code",
      "source": [
        "\n",
        "\n",
        "#defining a list\n",
        "my_list = [\n",
        "    1, 2, 3,\n",
        "    4, 5, 6,\n",
        "    ]\n",
        "print(my_list)\n",
        "print(len(my_list))    \n",
        "\n",
        "\n",
        "# taking input in list by user\n",
        "mylist = []\n",
        "  \n",
        "\n",
        "n = int(input(\"Enter number of elements \"))\n",
        "  \n",
        "\n",
        "for number in range(0, n):\n",
        "    element = int(input())\n",
        "  \n",
        "    mylist.append(element) \n",
        "      \n",
        "print(mylist)\n",
        "\n",
        "my_list.extend(mylist)\n",
        "print(my_list)\n",
        "\n"
      ],
      "metadata": {
        "colab": {
          "base_uri": "https://localhost:8080/"
        },
        "id": "EqQuCXkYmRLa",
        "outputId": "ad6b0eb1-6a5b-4188-8c7e-6a4a7df8ff77"
      },
      "execution_count": 16,
      "outputs": [
        {
          "output_type": "stream",
          "name": "stdout",
          "text": [
            "[1, 2, 3, 4, 5, 6]\n",
            "6\n",
            "Enter number of elements 4\n",
            "6 \n",
            "7\n",
            "8\n",
            "9\n",
            "[6, 7, 8, 9]\n",
            "[1, 2, 3, 4, 5, 6, 6, 7, 8, 9]\n"
          ]
        }
      ]
    },
    {
      "cell_type": "markdown",
      "source": [
        "Map()"
      ],
      "metadata": {
        "id": "UkOIOBKbH0i9"
      }
    },
    {
      "cell_type": "code",
      "source": [
        "\n",
        "numbers =int(input())\n",
        "lst = list(map(int,input(\"Enter the numbers \").strip().split()))[:numbers]\n",
        "print(lst)"
      ],
      "metadata": {
        "id": "N_d6AnklE44Q",
        "colab": {
          "base_uri": "https://localhost:8080/"
        },
        "outputId": "91ad3fc7-3c70-4cad-d4fd-2ff5ec45fe1f"
      },
      "execution_count": 17,
      "outputs": [
        {
          "output_type": "stream",
          "name": "stdout",
          "text": [
            "3\n",
            "Enter the numbers 5 6 7\n",
            "[5, 6, 7]\n"
          ]
        }
      ]
    },
    {
      "cell_type": "markdown",
      "source": [
        "Tuples\n"
      ],
      "metadata": {
        "id": "g-zGprALyRJf"
      }
    },
    {
      "cell_type": "code",
      "source": [
        "# tuple\n",
        "thistuple = (\"red\", \"green\", \"blue\")\n",
        "print(thistuple)\n"
      ],
      "metadata": {
        "colab": {
          "base_uri": "https://localhost:8080/"
        },
        "id": "__u5OeFVmROS",
        "outputId": "478d2851-8b51-443d-b7ab-739adbb2af1f"
      },
      "execution_count": 6,
      "outputs": [
        {
          "output_type": "stream",
          "name": "stdout",
          "text": [
            "('red', 'green', 'blue')\n"
          ]
        }
      ]
    },
    {
      "cell_type": "markdown",
      "source": [
        "Dictinary"
      ],
      "metadata": {
        "id": "w8NdOuYGyfvf"
      }
    },
    {
      "cell_type": "code",
      "source": [
        "thisdict = {\n",
        "  \"Name\": \"Khushi\",\n",
        "  \"Age\": 20,\n",
        "}\n",
        "print(type(thisdict))\n",
        "print(thisdict.get(\"Name\"))"
      ],
      "metadata": {
        "colab": {
          "base_uri": "https://localhost:8080/"
        },
        "id": "jIjtH5tcmRRO",
        "outputId": "15217841-0972-4906-eb32-bbc3836d386f"
      },
      "execution_count": 7,
      "outputs": [
        {
          "output_type": "stream",
          "name": "stdout",
          "text": [
            "<class 'dict'>\n",
            "Khushi\n"
          ]
        }
      ]
    },
    {
      "cell_type": "markdown",
      "source": [
        "Lambda function"
      ],
      "metadata": {
        "id": "cPxGnEMDDcbh"
      }
    },
    {
      "cell_type": "code",
      "source": [
        "sum = lambda num : num+10\n",
        "print(sum(5))"
      ],
      "metadata": {
        "colab": {
          "base_uri": "https://localhost:8080/"
        },
        "id": "nv4aTGBAmRUA",
        "outputId": "7cdf4b30-179d-4292-a746-bc0ec3950200"
      },
      "execution_count": 18,
      "outputs": [
        {
          "output_type": "stream",
          "name": "stdout",
          "text": [
            "15\n"
          ]
        }
      ]
    },
    {
      "cell_type": "markdown",
      "source": [
        "Functions"
      ],
      "metadata": {
        "id": "m5MOlKWez5fd"
      }
    },
    {
      "cell_type": "code",
      "source": [
        "name = \"Khushi\"  #defining global variable\n",
        "\n",
        "def myfunc():\n",
        "  print(\"My name \" + name)\n",
        "\n",
        "myfunc()"
      ],
      "metadata": {
        "colab": {
          "base_uri": "https://localhost:8080/"
        },
        "id": "6E6-frheNX0M",
        "outputId": "d0bcd355-5701-49bd-febb-57d09eaa827d"
      },
      "execution_count": 9,
      "outputs": [
        {
          "output_type": "stream",
          "name": "stdout",
          "text": [
            "My name Khushi\n"
          ]
        }
      ]
    },
    {
      "cell_type": "markdown",
      "source": [
        "Classes"
      ],
      "metadata": {
        "id": "Y1iM5TUm1n93"
      }
    },
    {
      "cell_type": "code",
      "source": [
        "class Computer:\n",
        "  def __init__(self): #defining constructor\n",
        "    self.name = \"khushi\"\n",
        "    self.age = 20\n",
        "  \n",
        "c1=Computer()\n",
        "print(c1.name)"
      ],
      "metadata": {
        "colab": {
          "base_uri": "https://localhost:8080/"
        },
        "id": "ROqjWsU4NX2-",
        "outputId": "92e6c993-705f-4574-9a8e-33023a28321d"
      },
      "execution_count": 10,
      "outputs": [
        {
          "output_type": "stream",
          "name": "stdout",
          "text": [
            "khushi\n"
          ]
        }
      ]
    },
    {
      "cell_type": "markdown",
      "source": [],
      "metadata": {
        "id": "Ilyc1V3J1mzw"
      }
    },
    {
      "cell_type": "code",
      "source": [
        "class Student:\n",
        "    def __init__(selfstudent, name, age):\n",
        "        selfstudent.name = name\n",
        "        selfstudent.age = age\n",
        " \n",
        "    def details(selfstudent):\n",
        "        print(\"Employee Name:\",  selfstudent.name)\n",
        "        print(\"Employee Age:\", selfstudent.age)\n",
        " \n",
        " \n",
        "student = Student(\"Khushi\", 20)\n",
        "student.details()"
      ],
      "metadata": {
        "colab": {
          "base_uri": "https://localhost:8080/"
        },
        "id": "cVWGELb9NX5-",
        "outputId": "2c25af90-486d-4e7a-b6ee-102ff8a6282e"
      },
      "execution_count": 11,
      "outputs": [
        {
          "output_type": "stream",
          "name": "stdout",
          "text": [
            "Employee Name: Khushi\n",
            "Employee Age: 20\n"
          ]
        }
      ]
    },
    {
      "cell_type": "markdown",
      "source": [
        "Decorators\n"
      ],
      "metadata": {
        "id": "zaFezEhf-Q_F"
      }
    },
    {
      "cell_type": "code",
      "source": [
        "def div(num1,num2):\n",
        "    print(num1/num2)\n",
        "\n",
        "def smart_div(func):\n",
        "\n",
        "    def inner(num1,num2):\n",
        "\n",
        "        if num1<num2:\n",
        "            num1,num2 = num2,num1\n",
        "        return func(num1,num2)\n",
        "\n",
        "    return inner\n",
        "\n",
        "div = smart_div(div)\n",
        "\n",
        "div(2,4)"
      ],
      "metadata": {
        "colab": {
          "base_uri": "https://localhost:8080/"
        },
        "id": "ezekyBKM-JO4",
        "outputId": "4c889d68-7558-43f1-fe3b-ae97c0bfce34"
      },
      "execution_count": 12,
      "outputs": [
        {
          "output_type": "stream",
          "name": "stdout",
          "text": [
            "2.0\n"
          ]
        }
      ]
    },
    {
      "cell_type": "markdown",
      "source": [
        "expection handling"
      ],
      "metadata": {
        "id": "cTjK_sNi-tO8"
      }
    },
    {
      "cell_type": "code",
      "source": [
        "try:\n",
        "  num1 = num2\n",
        "except NameError as ne:\n",
        "  print(ne)\n"
      ],
      "metadata": {
        "id": "qpsAnZcQ-r7S"
      },
      "execution_count": 13,
      "outputs": []
    },
    {
      "cell_type": "markdown",
      "source": [
        "Inheritence"
      ],
      "metadata": {
        "id": "CD1P-BXR_1qC"
      }
    },
    {
      "cell_type": "code",
      "source": [
        "class Parent:\n",
        "     def func1(self):\n",
        "          print(\"this is function one\")\n",
        "class Child(Parent):\n",
        "     def func2(self):\n",
        "          print(\" this is function two \")\n",
        "obj = Child()\n",
        "obj.func1()\n",
        "obj.func2()"
      ],
      "metadata": {
        "colab": {
          "base_uri": "https://localhost:8080/"
        },
        "id": "2_Cfdmqo_0n0",
        "outputId": "29b57a62-df38-4015-f5bb-9b0b725e02a0"
      },
      "execution_count": 14,
      "outputs": [
        {
          "output_type": "stream",
          "name": "stdout",
          "text": [
            "this is function one\n",
            " this is function two \n"
          ]
        }
      ]
    },
    {
      "cell_type": "code",
      "source": [],
      "metadata": {
        "id": "8-Mk8eEB-sDH"
      },
      "execution_count": 14,
      "outputs": []
    }
  ]
}