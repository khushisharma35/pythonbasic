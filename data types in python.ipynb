{
  "nbformat": 4,
  "nbformat_minor": 0,
  "metadata": {
    "colab": {
      "provenance": []
    },
    "kernelspec": {
      "name": "python3",
      "display_name": "Python 3"
    },
    "language_info": {
      "name": "python"
    }
  },
  "cells": [
    {
      "cell_type": "markdown",
      "source": [
        "text type:string"
      ],
      "metadata": {
        "id": "74uIjeWhrh49"
      }
    },
    {
      "cell_type": "code",
      "execution_count": 13,
      "metadata": {
        "colab": {
          "base_uri": "https://localhost:8080/"
        },
        "id": "2fmPaxVorcaY",
        "outputId": "0bce369c-95b1-487b-f4b1-9b72176678ab"
      },
      "outputs": [
        {
          "output_type": "stream",
          "name": "stdout",
          "text": [
            "<class 'str'>\n",
            "e\n",
            "HELLO THERE! HOW YOU DOING\n",
            "hello there! how you doing people\n",
            "Hello tHere! How you doing\n",
            "['hello', 'there!', 'how', 'you', 'doing']\n",
            "how\n",
            "['hello', 'there!', 'how']\n"
          ]
        }
      ],
      "source": [
        "mystring= \"hello there! how you doing\"\n",
        "str = \"people\"\n",
        "print(type(mystring))\n",
        "print(mystring[1])\n",
        "print(mystring.upper())\n",
        "print(mystring + \" \" + str)\n",
        "print(mystring.replace(\"h\",\"H\"))\n",
        "newmystring=mystring.split(\" \")\n",
        "print(newmystring)\n",
        "print(newmystring[2])\n",
        "print(newmystring[:3])"
      ]
    },
    {
      "cell_type": "code",
      "source": [
        "String1 = '''Wakanda \n",
        "            For \n",
        "            EVER'''\n",
        "print(\"Creating a multiline String\") \n",
        "print(String1) "
      ],
      "metadata": {
        "colab": {
          "base_uri": "https://localhost:8080/"
        },
        "id": "nNi_CiQLw4js",
        "outputId": "bd58efd1-3ac0-4d3e-884e-abd814cb4f2b"
      },
      "execution_count": 17,
      "outputs": [
        {
          "output_type": "stream",
          "name": "stdout",
          "text": [
            "Creating a multiline String\n",
            "    Wakanda \n",
            "            For \n",
            "            EVER\n"
          ]
        }
      ]
    },
    {
      "cell_type": "markdown",
      "source": [
        "NUMERIC TYPE"
      ],
      "metadata": {
        "id": "AuyduswqrhBS"
      }
    },
    {
      "cell_type": "code",
      "source": [
        "num1=50\n",
        "num2=5.44\n",
        "num3 = 2+3j\n",
        "print(type(num1))\n",
        "print(type(num2))\n",
        "print(type(num3))\n",
        "\n",
        "\n",
        "#type casting \n",
        "number1 = float(num1)\n",
        "number2 = int(num2)\n",
        "\n",
        "print(number1)\n",
        "print(number2)\n",
        "print(\"the total member presented in the party was {}\".format(num1))\n"
      ],
      "metadata": {
        "colab": {
          "base_uri": "https://localhost:8080/"
        },
        "id": "bBHphBu_vokX",
        "outputId": "49148a0d-0476-4cee-e98e-4abcbfc7a1c4"
      },
      "execution_count": 18,
      "outputs": [
        {
          "output_type": "stream",
          "name": "stdout",
          "text": [
            "<class 'int'>\n",
            "<class 'float'>\n",
            "<class 'complex'>\n",
            "50.0\n",
            "5\n",
            "the total member presented in the party was 50\n"
          ]
        }
      ]
    },
    {
      "cell_type": "markdown",
      "source": [
        "SEQUENCE TYPE"
      ],
      "metadata": {
        "id": "bMox5W06yOwe"
      }
    },
    {
      "cell_type": "code",
      "source": [
        "#list\n",
        "\n",
        "mylist=[1,3,2.0,\"test\"]\n",
        "print(mylist)\n",
        "\n",
        "#taking input from user with help of for loop\n",
        "mylst = []\n",
        "n = int(input(\"Enter number of elements \"))\n",
        "  \n",
        "\n",
        "for number in range(0, n):\n",
        "    element = int(input())\n",
        "  \n",
        "    mylst.append(element) \n",
        "      \n",
        "print(mylst)\n",
        "\n",
        "#taking input from user with help of map()\n",
        "\n",
        "numbers =int(input(\"enter the number \"))\n",
        "lst = list(map(int,input(\"Enter the numbers \").strip().split()))[:numbers]\n",
        "print(lst)\n",
        "\n",
        "\n"
      ],
      "metadata": {
        "colab": {
          "base_uri": "https://localhost:8080/"
        },
        "id": "T7Tx048VvovL",
        "outputId": "dff8d7cf-6258-4272-f053-2918c1272fde"
      },
      "execution_count": 33,
      "outputs": [
        {
          "output_type": "stream",
          "name": "stdout",
          "text": [
            "[1, 3, 2.0, 'test']\n",
            "Enter number of elements 3\n",
            "5\n",
            "5\n",
            "6\n",
            "[5, 5, 6]\n",
            "enter the number 5\n",
            "Enter the numbers 6 4 3 22 0  7\n",
            "[6, 4, 3, 22, 0]\n",
            "3\n",
            "[[3]]\n"
          ]
        }
      ]
    },
    {
      "cell_type": "code",
      "source": [
        "#taking input from user with help of list comprehension\n",
        "entr = [int(x) for x in input().split(\" \")]\n",
        "        \n",
        "N = len(entr)\n",
        "print(entr)"
      ],
      "metadata": {
        "colab": {
          "base_uri": "https://localhost:8080/"
        },
        "id": "kRuVifK76ycw",
        "outputId": "d7e18bee-71ec-469c-e440-f654a9bb2c64"
      },
      "execution_count": 36,
      "outputs": [
        {
          "output_type": "stream",
          "name": "stdout",
          "text": [
            "5 6 7 8\n",
            "[5, 6, 7, 8]\n"
          ]
        }
      ]
    },
    {
      "cell_type": "code",
      "source": [
        " # function on list\n",
        "\n",
        " list1=[1,2,3,4,5]\n",
        " list2=[6,7,8,9,8]\n",
        " list3 =[\"khushi\",\"riya\",\"palak\"]\n",
        " list1.extend(list2)\n",
        " print(list1)\n",
        " string=\" \".join(list3)\n",
        " print(string)\n",
        " #silicing\n",
        " print(list1[:-1])\n",
        " print(list1[::-1]) \n",
        " print(list1[2:4])\n"
      ],
      "metadata": {
        "colab": {
          "base_uri": "https://localhost:8080/"
        },
        "id": "3Vv-WvG-7PYa",
        "outputId": "5c282c47-248f-4e4f-a4fb-f1b3a2bebd0f"
      },
      "execution_count": 43,
      "outputs": [
        {
          "output_type": "stream",
          "name": "stdout",
          "text": [
            "[1, 2, 3, 4, 5, 6, 7, 8, 9, 8]\n",
            "khushi riya palak\n",
            "[1, 2, 3, 4, 5, 6, 7, 8, 9]\n",
            "[8, 9, 8, 7, 6, 5, 4, 3, 2, 1]\n",
            "[3, 4]\n"
          ]
        }
      ]
    },
    {
      "cell_type": "code",
      "source": [
        "#reduce() on list\n",
        "from functools import reduce\n",
        "reduce(lambda value1,value2: value1+value2,[23,21,45,98])"
      ],
      "metadata": {
        "colab": {
          "base_uri": "https://localhost:8080/"
        },
        "id": "oWH1-E_8_VDs",
        "outputId": "ef7bcae6-e049-4878-e4ed-0bcdc73db322"
      },
      "execution_count": 92,
      "outputs": [
        {
          "output_type": "execute_result",
          "data": {
            "text/plain": [
              "187"
            ]
          },
          "metadata": {},
          "execution_count": 92
        }
      ]
    },
    {
      "cell_type": "code",
      "source": [
        "#filter function\n",
        "number_list = range(-5, 5)\n",
        "less_than_zero = list(filter(lambda x: x < 0, number_list))\n",
        "print(less_than_zero)\n"
      ],
      "metadata": {
        "colab": {
          "base_uri": "https://localhost:8080/"
        },
        "id": "QXUPd0W9J_HL",
        "outputId": "5c15f7f1-f31e-4cf5-cb18-cf941415d681"
      },
      "execution_count": 78,
      "outputs": [
        {
          "output_type": "stream",
          "name": "stdout",
          "text": [
            "[-5, -4, -3, -2, -1]\n"
          ]
        }
      ]
    },
    {
      "cell_type": "code",
      "source": [
        "#tuple\n",
        "\n",
        "thistuple = (\"red\", \"green\", \"blue\")\n",
        "print(thistuple)\n",
        "print(thistuple[2])\n"
      ],
      "metadata": {
        "colab": {
          "base_uri": "https://localhost:8080/"
        },
        "id": "ETeWfu8a7Pc1",
        "outputId": "4515d5aa-c0c6-4184-942b-23d061ffa52d"
      },
      "execution_count": 86,
      "outputs": [
        {
          "output_type": "stream",
          "name": "stdout",
          "text": [
            "('red', 'green', 'blue')\n",
            "blue\n"
          ]
        }
      ]
    },
    {
      "cell_type": "code",
      "source": [
        "tuple1=(\"riya\",\"khushi\",\"tanu\",\"divyanshi\")\n",
        "tuple2=(\"hi\",\"hello\",\"ola\",\"chao\")\n",
        "tuple3=zip(tuple1,tuple2)\n",
        "print(list(tuple3))"
      ],
      "metadata": {
        "colab": {
          "base_uri": "https://localhost:8080/"
        },
        "id": "MzSuQiqk-CDe",
        "outputId": "fde4776b-0c3d-42c8-b5cf-32d892299965"
      },
      "execution_count": 54,
      "outputs": [
        {
          "output_type": "stream",
          "name": "stdout",
          "text": [
            "[('riya', 'hi'), ('khushi', 'hello'), ('tanu', 'ola'), ('divyanshi', 'chao')]\n"
          ]
        }
      ]
    },
    {
      "cell_type": "code",
      "source": [
        "#keyworded variable line arguement\n",
        "def add(name,**values):\n",
        "  print(name)\n",
        "  print(values)\n",
        " \n",
        "\n",
        "add('khushi',rollno=10,city=\"aburoad\",age=30,qualification=\"btech\")  "
      ],
      "metadata": {
        "colab": {
          "base_uri": "https://localhost:8080/"
        },
        "id": "wBY-JF47_AZb",
        "outputId": "601b1e86-9f24-4de0-f671-0d13537ea946"
      },
      "execution_count": 55,
      "outputs": [
        {
          "output_type": "stream",
          "name": "stdout",
          "text": [
            "khushi\n",
            "{'rollno': 10, 'city': 'aburoad', 'age': 30, 'qualification': 'btech'}\n"
          ]
        }
      ]
    },
    {
      "cell_type": "code",
      "source": [
        "#sets\n",
        "myset ={1,4,5,7,8}\n",
        "print(myset)\n",
        "myset.add(0)\n",
        "print(myset)\n",
        "print(len(myset))\n",
        "rollno={5,7,88,9,00,1}\n",
        "newrollno=frozenset(rollno)\n",
        "print(newrollno)"
      ],
      "metadata": {
        "colab": {
          "base_uri": "https://localhost:8080/"
        },
        "id": "Og4HXz3O_PR9",
        "outputId": "ab8c76e9-4543-4ab5-8e0f-3e9f3960a415"
      },
      "execution_count": 90,
      "outputs": [
        {
          "output_type": "stream",
          "name": "stdout",
          "text": [
            "{1, 4, 5, 7, 8}\n",
            "{0, 1, 4, 5, 7, 8}\n",
            "6\n",
            "frozenset({0, 1, 5, 7, 88, 9})\n"
          ]
        }
      ]
    },
    {
      "cell_type": "code",
      "source": [],
      "metadata": {
        "id": "OI0B-8miL2Np"
      },
      "execution_count": null,
      "outputs": []
    },
    {
      "cell_type": "code",
      "source": [
        "# dictionary\n",
        "\n",
        "thisdict = {\n",
        "  \"Name\": \"Khushi\",\n",
        "  \"Age\": 20,\n",
        "}\n",
        "print(type(thisdict))\n",
        "print(thisdict.get(\"Name\"))\n"
      ],
      "metadata": {
        "colab": {
          "base_uri": "https://localhost:8080/"
        },
        "id": "R7RmW0Xu_PWF",
        "outputId": "4831d2b0-aa86-47af-db30-3d1c08246695"
      },
      "execution_count": 94,
      "outputs": [
        {
          "output_type": "stream",
          "name": "stdout",
          "text": [
            "<class 'dict'>\n",
            "Khushi\n"
          ]
        }
      ]
    },
    {
      "cell_type": "code",
      "source": [
        "#taking input in dictionary from user\n",
        "number = 3\n",
        "\n",
        "mydict = dict(input(\"Enter key and value: \").split() for _ in range(number))\n",
        "\n",
        "print(mydict)\n"
      ],
      "metadata": {
        "colab": {
          "base_uri": "https://localhost:8080/"
        },
        "id": "qXXE7269_PYY",
        "outputId": "c1c9f857-1a16-4316-d94d-9e728a8028e1"
      },
      "execution_count": 70,
      "outputs": [
        {
          "output_type": "stream",
          "name": "stdout",
          "text": [
            "Enter key and value: \"red\" \"cherry\"\n",
            "Enter key and value: \"green\" \"kiwi\"\n",
            "Enter key and value: \"yellow\" \"banana\"\n",
            "{'\"red\"': '\"cherry\"', '\"green\"': '\"kiwi\"', '\"yellow\"': '\"banana\"'}\n"
          ]
        }
      ]
    },
    {
      "cell_type": "code",
      "source": [
        "family = {}\n",
        "num = int(input(\"How many members?: \"))\n",
        "for i in range(num):\n",
        "    realation = input(\"Enter realation: \")\n",
        "    name = input(\"Enter name: \")\n",
        "    family.update({realation:name})\n",
        "print(family)"
      ],
      "metadata": {
        "colab": {
          "base_uri": "https://localhost:8080/"
        },
        "id": "R54lvlOnDUo1",
        "outputId": "0fc14fea-fad7-41c7-9a28-742f677eca08"
      },
      "execution_count": 89,
      "outputs": [
        {
          "output_type": "stream",
          "name": "stdout",
          "text": [
            "How many members?: 3\n",
            "Enter realation: father\n",
            "Enter name: ross\n",
            "Enter realation: mother\n",
            "Enter name: rachael\n",
            "Enter realation: daughter\n",
            "Enter name: emma\n",
            "{'father': 'ross', 'mother': 'rachael', 'daughter': 'emma'}\n"
          ]
        }
      ]
    },
    {
      "cell_type": "markdown",
      "source": [
        "BOOL type"
      ],
      "metadata": {
        "id": "blPWB1PqItR4"
      }
    },
    {
      "cell_type": "code",
      "source": [
        "print(type(True))\n",
        "print(True or False)\n",
        "print(False or False)\n",
        "print(True or True)"
      ],
      "metadata": {
        "colab": {
          "base_uri": "https://localhost:8080/"
        },
        "id": "jOMbbQPTIr9E",
        "outputId": "d31c4634-5f25-4faa-da09-6b1fc854dbbd"
      },
      "execution_count": 77,
      "outputs": [
        {
          "output_type": "stream",
          "name": "stdout",
          "text": [
            "<class 'bool'>\n",
            "True\n",
            "False\n",
            "True\n"
          ]
        }
      ]
    },
    {
      "cell_type": "code",
      "source": [],
      "metadata": {
        "id": "5LWHJ8QdIsAe"
      },
      "execution_count": null,
      "outputs": []
    }
  ]
}