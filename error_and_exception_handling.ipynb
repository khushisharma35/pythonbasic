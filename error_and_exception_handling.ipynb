{
  "nbformat": 4,
  "nbformat_minor": 0,
  "metadata": {
    "colab": {
      "provenance": [],
      "authorship_tag": "ABX9TyNrKCG8rGU3DiT4RdkYmXHC",
      "include_colab_link": true
    },
    "kernelspec": {
      "name": "python3",
      "display_name": "Python 3"
    },
    "language_info": {
      "name": "python"
    }
  },
  "cells": [
    {
      "cell_type": "markdown",
      "metadata": {
        "id": "view-in-github",
        "colab_type": "text"
      },
      "source": [
        "<a href=\"https://colab.research.google.com/github/khushisharma35/pythonbasic/blob/main/error_and_exception_handling.ipynb\" target=\"_parent\"><img src=\"https://colab.research.google.com/assets/colab-badge.svg\" alt=\"Open In Colab\"/></a>"
      ]
    },
    {
      "cell_type": "markdown",
      "source": [
        "# EXCEPTION HANDLING"
      ],
      "metadata": {
        "id": "e_PQkVC2O-0P"
      }
    },
    {
      "cell_type": "markdown",
      "source": [
        "\n",
        "# overflow error"
      ],
      "metadata": {
        "id": "GQksaPRVx954"
      }
    },
    {
      "cell_type": "code",
      "source": [
        "import math\n",
        "\n",
        "try:\n",
        "    print(math.exp(1000))\n",
        "    \n",
        "except OverflowError as oe:\n",
        "    print(\"After overflow\", oe)"
      ],
      "metadata": {
        "colab": {
          "base_uri": "https://localhost:8080/"
        },
        "id": "DogmVSNyxvt5",
        "outputId": "328f5a34-fc85-44a9-8e35-16e230b7d8d7"
      },
      "execution_count": 2,
      "outputs": [
        {
          "output_type": "stream",
          "name": "stdout",
          "text": [
            "After overflow math range error\n"
          ]
        }
      ]
    },
    {
      "cell_type": "markdown",
      "source": [
        "# Assertion error\n"
      ],
      "metadata": {
        "id": "DMfZXiSP0a5A"
      }
    },
    {
      "cell_type": "code",
      "source": [
        "x= \"hello\"\n",
        "try:\n",
        "  assert x ==\"goodbye\"\n",
        "except AssertionError:\n",
        "  print(\"Assertion error\") \n"
      ],
      "metadata": {
        "colab": {
          "base_uri": "https://localhost:8080/"
        },
        "id": "YFFQxaaNxvzx",
        "outputId": "49ef9f71-1dab-46e6-a313-3152a96af0bf"
      },
      "execution_count": 10,
      "outputs": [
        {
          "output_type": "stream",
          "name": "stdout",
          "text": [
            "Assertion error\n"
          ]
        }
      ]
    },
    {
      "cell_type": "markdown",
      "source": [
        "# attribute error"
      ],
      "metadata": {
        "id": "4xCSHNf3xuCv"
      }
    },
    {
      "cell_type": "code",
      "source": [
        "i=1\n",
        "try:\n",
        "  b=i.append(2)\n",
        "  print(b)\n",
        "except AttributeError as A:\n",
        "  print(\"attribute error:\",A)  \n",
        "\n"
      ],
      "metadata": {
        "colab": {
          "base_uri": "https://localhost:8080/"
        },
        "id": "iK--9ndJ1ZOJ",
        "outputId": "951a709a-e0a3-4249-8cd8-3300724a4fc8"
      },
      "execution_count": 16,
      "outputs": [
        {
          "output_type": "stream",
          "name": "stdout",
          "text": [
            "attribute error: 'int' object has no attribute 'append'\n"
          ]
        }
      ]
    },
    {
      "cell_type": "markdown",
      "source": [
        "# TYPE ERROR"
      ],
      "metadata": {
        "id": "dQPjFvYd6in7"
      }
    },
    {
      "cell_type": "code",
      "source": [
        "a= \"khushi\"\n",
        "b= 1\n",
        "try:\n",
        "  c=zip(a,b)\n",
        "  print(c)\n",
        "except TypeError as T:\n",
        "  print(\"type error:\",T)  "
      ],
      "metadata": {
        "colab": {
          "base_uri": "https://localhost:8080/"
        },
        "id": "qC4x5Co54d2k",
        "outputId": "a0e57292-927e-4723-c08b-25e7ea976cb9"
      },
      "execution_count": 19,
      "outputs": [
        {
          "output_type": "stream",
          "name": "stdout",
          "text": [
            "type error: zip argument #2 must support iteration\n"
          ]
        }
      ]
    },
    {
      "cell_type": "code",
      "source": [
        "Num1= 1\n",
        "Num2 =\"KHUSHI\"\n",
        "try:\n",
        "  Num3=Num1+Num2\n",
        "  print(Num3)\n",
        "except TypeError as e:\n",
        "  print(\"TypeError\",e)\n",
        "\n"
      ],
      "metadata": {
        "colab": {
          "base_uri": "https://localhost:8080/"
        },
        "id": "HaBVdIBh4d5T",
        "outputId": "f1db18f2-affc-4dfe-c7e8-fee802559dc1"
      },
      "execution_count": 26,
      "outputs": [
        {
          "output_type": "stream",
          "name": "stdout",
          "text": [
            "TypeError unsupported operand type(s) for +: 'int' and 'str'\n"
          ]
        }
      ]
    },
    {
      "cell_type": "markdown",
      "source": [
        "# value error"
      ],
      "metadata": {
        "id": "NmUvDja271tI"
      }
    },
    {
      "cell_type": "code",
      "source": [
        "try:\n",
        "    print (float('khushi'))\n",
        "except ValueError as e:\n",
        "    print ('ValueError:',e)\n"
      ],
      "metadata": {
        "colab": {
          "base_uri": "https://localhost:8080/"
        },
        "id": "4vHh0J5P4d8N",
        "outputId": "626f3922-6017-4dc6-c9b6-707bb3986ac5"
      },
      "execution_count": 31,
      "outputs": [
        {
          "output_type": "stream",
          "name": "stdout",
          "text": [
            "ValueError: could not convert string to float: 'khushi'\n"
          ]
        }
      ]
    },
    {
      "cell_type": "markdown",
      "source": [
        "# import error"
      ],
      "metadata": {
        "id": "IJ70rkBAQYjH"
      }
    },
    {
      "cell_type": "code",
      "source": [
        "try:\n",
        "  import tym\n",
        "except ModuleNotFoundError :\n",
        "  print(\"ModuleNotFound\")"
      ],
      "metadata": {
        "colab": {
          "base_uri": "https://localhost:8080/"
        },
        "id": "0dDPJyvx4d-5",
        "outputId": "9a599780-c2d1-4285-bc93-ff4a489157ad"
      },
      "execution_count": 33,
      "outputs": [
        {
          "output_type": "stream",
          "name": "stdout",
          "text": [
            "ModuleNotFound\n"
          ]
        }
      ]
    },
    {
      "cell_type": "markdown",
      "source": [
        "# Name error"
      ],
      "metadata": {
        "id": "2bwtc99ZNK-S"
      }
    },
    {
      "cell_type": "code",
      "source": [
        "try:\n",
        "  num1 = num2\n",
        "except NameError as ne:\n",
        "  print(ne)"
      ],
      "metadata": {
        "colab": {
          "base_uri": "https://localhost:8080/"
        },
        "id": "7B4h1Bse4eBk",
        "outputId": "67a6b461-ecdc-4a48-b67e-ffe7361ec977"
      },
      "execution_count": 34,
      "outputs": [
        {
          "output_type": "stream",
          "name": "stdout",
          "text": [
            "name 'num2' is not defined\n"
          ]
        }
      ]
    },
    {
      "cell_type": "markdown",
      "source": [
        "# Index error"
      ],
      "metadata": {
        "id": "zXuOFeRsNO9H"
      }
    },
    {
      "cell_type": "code",
      "source": [
        "lst=[1,4,5,7,88,90]\n",
        "try:\n",
        "  print(lst[9])\n",
        "except IndexError as e:\n",
        "  print(\"IndexError\",e)  \n",
        "  "
      ],
      "metadata": {
        "colab": {
          "base_uri": "https://localhost:8080/"
        },
        "id": "4mVU5M7a4eEA",
        "outputId": "ebd8db0f-c6ec-46c6-ae7c-7278bcb80687"
      },
      "execution_count": 36,
      "outputs": [
        {
          "output_type": "stream",
          "name": "stdout",
          "text": [
            "IndexError list index out of range\n"
          ]
        }
      ]
    },
    {
      "cell_type": "markdown",
      "source": [
        "# key error"
      ],
      "metadata": {
        "id": "sRuNLwStOQpv"
      }
    },
    {
      "cell_type": "code",
      "source": [
        "a = {1:'red', 2:'yellow', 3:'green'}  \n",
        "try:  \n",
        "    print (a[4])  \n",
        "except KeyError:  \n",
        "    print (\"Key Error Exception Raised.\")\n",
        "else:  \n",
        "    print (\"Success\")\n",
        "finally :\n",
        "  print(\"finishh\")    "
      ],
      "metadata": {
        "colab": {
          "base_uri": "https://localhost:8080/"
        },
        "id": "feWh6XdO4eIv",
        "outputId": "f44f2431-db0c-4915-d52b-ba869de287c0"
      },
      "execution_count": 66,
      "outputs": [
        {
          "output_type": "stream",
          "name": "stdout",
          "text": [
            "Key Error Exception Raised.\n",
            "finishh\n"
          ]
        }
      ]
    },
    {
      "cell_type": "markdown",
      "source": [
        "# zerodivision error\n"
      ],
      "metadata": {
        "id": "3XQLdYPVUh0H"
      }
    },
    {
      "cell_type": "code",
      "source": [
        "num1=int(input())\n",
        "num2=int(input())\n",
        "try:\n",
        "  num3=num1/num2\n",
        "  print(num3)\n",
        "except ZeroDivisionError :\n",
        "  print(\"ZeroDivisionError\")\n"
      ],
      "metadata": {
        "colab": {
          "base_uri": "https://localhost:8080/"
        },
        "id": "w5wnsXpoTmwf",
        "outputId": "eddd240a-61d7-48bc-cce7-4240f421334b"
      },
      "execution_count": 51,
      "outputs": [
        {
          "output_type": "stream",
          "name": "stdout",
          "text": [
            "300\n",
            "0\n",
            "ZeroDivisionError\n"
          ]
        }
      ]
    },
    {
      "cell_type": "markdown",
      "source": [
        "# recursion error"
      ],
      "metadata": {
        "id": "piIIlowjZAJE"
      }
    },
    {
      "cell_type": "code",
      "source": [
        "def sum(num1,num2):\n",
        "  num3=num1+num2\n",
        "  return sum(num1,num2)\n",
        "try:\n",
        "  sum(2,6) \n",
        "except RecursionError:\n",
        "  print(\"recursionerror\")"
      ],
      "metadata": {
        "colab": {
          "base_uri": "https://localhost:8080/"
        },
        "id": "AO-6W6qPZEta",
        "outputId": "7ed1afb1-74b5-47a5-a208-4b5ec95aa740"
      },
      "execution_count": 65,
      "outputs": [
        {
          "output_type": "stream",
          "name": "stdout",
          "text": [
            "recursionerror\n"
          ]
        }
      ]
    },
    {
      "cell_type": "markdown",
      "source": [
        "# error(at compile time)"
      ],
      "metadata": {
        "id": "AX9hbgDDQlXq"
      }
    },
    {
      "cell_type": "code",
      "source": [
        "#syntax error\n",
        "\n",
        "print\"how you doing\")"
      ],
      "metadata": {
        "colab": {
          "base_uri": "https://localhost:8080/",
          "height": 131
        },
        "id": "qzmuVBV04eKn",
        "outputId": "872745c9-4d2e-4c3e-b603-35492c19ba4a"
      },
      "execution_count": 41,
      "outputs": [
        {
          "output_type": "error",
          "ename": "SyntaxError",
          "evalue": "ignored",
          "traceback": [
            "\u001b[0;36m  File \u001b[0;32m\"<ipython-input-41-b70377042ed3>\"\u001b[0;36m, line \u001b[0;32m3\u001b[0m\n\u001b[0;31m    print\"how you doing\")\u001b[0m\n\u001b[0m                       ^\u001b[0m\n\u001b[0;31mSyntaxError\u001b[0m\u001b[0;31m:\u001b[0m invalid syntax\n"
          ]
        }
      ]
    },
    {
      "cell_type": "code",
      "source": [
        "#indentation error\n",
        "try:\n",
        "  def add(num1,num2):\n",
        "  num3=num1+num2\n",
        "  print(num3)\n",
        "      \n",
        "except IdentationError:\n",
        "  print(\"error\")  \n",
        "\n",
        "add(2,4)"
      ],
      "metadata": {
        "colab": {
          "base_uri": "https://localhost:8080/",
          "height": 131
        },
        "id": "rMb-uWK54eMk",
        "outputId": "b27a185d-f74a-41b9-c1a4-5dfd74658f26"
      },
      "execution_count": 63,
      "outputs": [
        {
          "output_type": "error",
          "ename": "IndentationError",
          "evalue": "ignored",
          "traceback": [
            "\u001b[0;36m  File \u001b[0;32m\"<ipython-input-63-d6ef4a7d9927>\"\u001b[0;36m, line \u001b[0;32m4\u001b[0m\n\u001b[0;31m    num3=num1+num2\u001b[0m\n\u001b[0m       ^\u001b[0m\n\u001b[0;31mIndentationError\u001b[0m\u001b[0;31m:\u001b[0m expected an indented block\n"
          ]
        }
      ]
    },
    {
      "cell_type": "code",
      "source": [],
      "metadata": {
        "id": "mxlz-IC54eYn"
      },
      "execution_count": null,
      "outputs": []
    },
    {
      "cell_type": "markdown",
      "source": [
        "# Raising exception"
      ],
      "metadata": {
        "id": "rtauCKV64Df1"
      }
    },
    {
      "cell_type": "code",
      "source": [
        "try:\n",
        "    raise NameError('its an Name error')\n",
        "except NameError:\n",
        "    print('An exception flew by!')\n",
        "    raise"
      ],
      "metadata": {
        "colab": {
          "base_uri": "https://localhost:8080/",
          "height": 253
        },
        "id": "G6Ng6syt4cvr",
        "outputId": "c5c223ca-90a9-4d4b-941c-a0bb916a8dcd"
      },
      "execution_count": 43,
      "outputs": [
        {
          "output_type": "stream",
          "name": "stdout",
          "text": [
            "An exception flew by!\n"
          ]
        },
        {
          "output_type": "error",
          "ename": "NameError",
          "evalue": "ignored",
          "traceback": [
            "\u001b[0;31m---------------------------------------------------------------------------\u001b[0m",
            "\u001b[0;31mNameError\u001b[0m                                 Traceback (most recent call last)",
            "\u001b[0;32m<ipython-input-43-3e886193d013>\u001b[0m in \u001b[0;36m<module>\u001b[0;34m\u001b[0m\n\u001b[1;32m      1\u001b[0m \u001b[0;32mtry\u001b[0m\u001b[0;34m:\u001b[0m\u001b[0;34m\u001b[0m\u001b[0;34m\u001b[0m\u001b[0m\n\u001b[0;32m----> 2\u001b[0;31m     \u001b[0;32mraise\u001b[0m \u001b[0mNameError\u001b[0m\u001b[0;34m(\u001b[0m\u001b[0;34m'its an Name error'\u001b[0m\u001b[0;34m)\u001b[0m\u001b[0;34m\u001b[0m\u001b[0;34m\u001b[0m\u001b[0m\n\u001b[0m\u001b[1;32m      3\u001b[0m \u001b[0;32mexcept\u001b[0m \u001b[0mNameError\u001b[0m\u001b[0;34m:\u001b[0m\u001b[0;34m\u001b[0m\u001b[0;34m\u001b[0m\u001b[0m\n\u001b[1;32m      4\u001b[0m     \u001b[0mprint\u001b[0m\u001b[0;34m(\u001b[0m\u001b[0;34m'An exception flew by!'\u001b[0m\u001b[0;34m)\u001b[0m\u001b[0;34m\u001b[0m\u001b[0;34m\u001b[0m\u001b[0m\n\u001b[1;32m      5\u001b[0m     \u001b[0;32mraise\u001b[0m\u001b[0;34m\u001b[0m\u001b[0;34m\u001b[0m\u001b[0m\n",
            "\u001b[0;31mNameError\u001b[0m: its an Name error"
          ]
        }
      ]
    }
  ]
}